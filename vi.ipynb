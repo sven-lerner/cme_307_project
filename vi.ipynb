{
 "cells": [
  {
   "cell_type": "code",
   "execution_count": 1,
   "metadata": {},
   "outputs": [],
   "source": [
    "import numpy as np"
   ]
  },
  {
   "cell_type": "code",
   "execution_count": 10,
   "metadata": {},
   "outputs": [],
   "source": [
    "from typing import Callable, Mapping, Tuple, TypeVar, Set"
   ]
  },
  {
   "cell_type": "code",
   "execution_count": 12,
   "metadata": {},
   "outputs": [],
   "source": [
    "S = TypeVar('S')\n",
    "A = TypeVar('A')\n",
    "MDPTransitions = Mapping[S, Mapping[A, Mapping[S, float]]]\n",
    "MDPActions = Mapping[S, Set[A]]\n",
    "MDPRewards = Mapping[S, Mapping[A, float]]\n",
    "\n"
   ]
  },
  {
   "cell_type": "code",
   "execution_count": 35,
   "metadata": {},
   "outputs": [],
   "source": [
    "def value_iteration(actions: MDPActions, transitions: MDPTransitions, rewards: MDPRewards,\n",
    "                   discount: float) -> Mapping[S, float]:\n",
    "    base_value_function = {s: 0 for s in actions.keys()}\n",
    "    next_value_function = iterate_on_value_function(actions, transitions, rewards, base_value_function,\n",
    "                                                   discount)\n",
    "    while not check_value_fuction_equivalence(base_value_function, next_value_function):\n",
    "        base_value_function = next_value_function\n",
    "        next_value_function = iterate_on_value_function(actions, transitions, rewards, base_value_function, \n",
    "                                                        discount)\n",
    "    return base_value_function\n",
    "\n",
    "\n",
    "def iterate_on_value_function(actions: MDPActions, transitions: MDPTransitions, rewards: MDPRewards,\n",
    "                              base_vf: Mapping[S, float], discount: float) -> Mapping[S, float]:\n",
    "    new_vf = {}\n",
    "    for s in actions.keys():\n",
    "        action_values = [(action, extract_value_of_action(actions, transitions, rewards, \n",
    "                                                          action, s, base_vf, discount)) for action in actions[s]]\n",
    "        best_action_reward = min([x[1] for x in action_values])\n",
    "        new_vf[s] = best_action_reward\n",
    "    return new_vf\n",
    "\n",
    "\n",
    "def extract_value_of_action(actions: MDPActions, transitions: MDPTransitions, rewards: MDPRewards,\n",
    "                            action: A, state: S, value_function, discount: float):\n",
    "    return rewards[state][action] + discount * sum([p * value_function[s_prime]\n",
    "                                                    for s_prime, p in\n",
    "                                                    transitions[state][action].items()])\n",
    "\n",
    "\n",
    "def check_value_fuction_equivalence(v1, v2, epsilon=1e-8) -> bool:\n",
    "    assert v1.keys() == v2.keys(), \"comparing policies with different state spaces\"\n",
    "    for state in v1:\n",
    "        if not abs(v1[state] - v2[state]) <= epsilon:\n",
    "            return False\n",
    "    return True\n",
    "\n",
    "\n",
    "def check_policy_equivalence(p1, p2) -> bool:\n",
    "    assert p1.keys() == p2.keys(), \"comparing policies with different state spaces\"\n",
    "    for state in p1:\n",
    "        if p1[state] != p2[state]:\n",
    "            return False\n",
    "    return True\n",
    "\n",
    "\n",
    "def get_greedy_policy(actions: MDPActions, transitions: MDPTransitions, rewards: MDPRewards,\n",
    "                      value_function: Mapping[S, float], terminal_states: Set[S]) -> Mapping[S, A]:\n",
    "    policy = {}\n",
    "    non_terminal_states = set(actions.keys()) - terminal_states\n",
    "    for s in non_terminal_states:\n",
    "        actions_rewards = {}\n",
    "        for action in actions[s]:\n",
    "            actions_rewards[action] = extract_value_of_action(mdp, action, s, value_function)\n",
    "        policy[s] = {(min(actions_rewards, key=actions_rewards.get), 1)}\n",
    "    for s in terminal_states:\n",
    "        policy[s] = {(actions[s][0], 1)}\n",
    "    return policy\n"
   ]
  },
  {
   "cell_type": "code",
   "execution_count": 36,
   "metadata": {},
   "outputs": [],
   "source": [
    "'''\n",
    "Maze Runner Problem\n",
    "'''\n",
    "\n",
    "maze_runner_actions = {\n",
    "    0: {'s', 'j'},\n",
    "    1: {'s', 'j'},\n",
    "    2: {'s', 'j'},\n",
    "    3: {'s', 'j'},\n",
    "    4: {'s',},\n",
    "    5: {'stay'}\n",
    "}\n",
    "\n",
    "maze_runner_transitions = {\n",
    "    0: {'s': {1: 1}, 'j': {2: 0.5, 3: 0.25, 4: 0.125, 5:0.125}},\n",
    "    1: {'s': {2: 1}, 'j': {3: 0.5, 4: 0.25, 5:0.25}},\n",
    "    2: {'s': {3: 1}, 'j': {4: 0.5, 5:0.5}},\n",
    "    3: {'s': {4: 1}, 'j': {4: 0.5, 5:0.5}},\n",
    "    4: {'s': {5: 1}},\n",
    "    5: {'stay': {5: 1}}\n",
    "}\n",
    "\n",
    "maze_runner_rewards = {\n",
    "    0: {'s': 0, 'j': 0},\n",
    "    1: {'s': 0, 'j': 0},\n",
    "    2: {'s': 0, 'j': 0},\n",
    "    3: {'s': 0, 'j': 0},\n",
    "    4: {'s': 1},\n",
    "    5: {'stay': 0}\n",
    "}\n"
   ]
  },
  {
   "cell_type": "code",
   "execution_count": 37,
   "metadata": {},
   "outputs": [
    {
     "data": {
      "text/plain": [
       "{0: 0.32805000000000006,\n",
       " 1: 0.36450000000000005,\n",
       " 2: 0.405,\n",
       " 3: 0.45,\n",
       " 4: 1.0,\n",
       " 5: 0.0}"
      ]
     },
     "execution_count": 37,
     "metadata": {},
     "output_type": "execute_result"
    }
   ],
   "source": [
    "value_iteration(actions=maze_runner_actions, transitions=maze_runner_transitions, rewards=maze_runner_rewards,\n",
    "               discount=0.9)"
   ]
  },
  {
   "cell_type": "code",
   "execution_count": null,
   "metadata": {},
   "outputs": [],
   "source": []
  },
  {
   "cell_type": "code",
   "execution_count": null,
   "metadata": {},
   "outputs": [],
   "source": []
  }
 ],
 "metadata": {
  "kernelspec": {
   "display_name": "Python 3",
   "language": "python",
   "name": "python3"
  },
  "language_info": {
   "codemirror_mode": {
    "name": "ipython",
    "version": 3
   },
   "file_extension": ".py",
   "mimetype": "text/x-python",
   "name": "python",
   "nbconvert_exporter": "python",
   "pygments_lexer": "ipython3",
   "version": "3.7.6"
  }
 },
 "nbformat": 4,
 "nbformat_minor": 2
}
