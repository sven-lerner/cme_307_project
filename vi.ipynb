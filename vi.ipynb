{
 "cells": [
  {
   "cell_type": "code",
   "execution_count": 1,
   "metadata": {},
   "outputs": [],
   "source": [
    "import numpy as np\n",
    "from collections import defaultdict"
   ]
  },
  {
   "cell_type": "code",
   "execution_count": 2,
   "metadata": {},
   "outputs": [],
   "source": [
    "from typing import Callable, Mapping, Tuple, TypeVar, Set"
   ]
  },
  {
   "cell_type": "code",
   "execution_count": 3,
   "metadata": {},
   "outputs": [],
   "source": [
    "from src.mdps.in_class_maze_runner import BasicMazeRunner\n",
    "from src.mdps.grid_maze import RandomGridMaze\n",
    "from src.value_iteration.value_iteration_methods import value_iteration"
   ]
  },
  {
   "cell_type": "code",
   "execution_count": 5,
   "metadata": {},
   "outputs": [],
   "source": [
    "class_mr = BasicMazeRunner()\n",
    "maze_runner_actions, maze_runner_transitions, maze_runner_rewards = class_mr.get_mdp()"
   ]
  },
  {
   "cell_type": "code",
   "execution_count": 6,
   "metadata": {},
   "outputs": [
    {
     "name": "stdout",
     "output_type": "stream",
     "text": [
      "{0: 0.0, 1: 0.0, 2: 0.0, 3: 0.0, 4: 1.0, 5: 0.0} 2\n",
      "{0: 0, 1: 0, 2: 0, 3: 0, 4: 0, 5: 0} 1\n",
      "{0: 0.0, 1: 0.0, 2: 0.0, 3: 0.0, 4: 1.0, 5: 0.0} 2\n",
      "{0: 0.0, 1: 0.0, 2: 0.0, 3: 0.0, 4: 1.0, 5: 0.0} 2\n",
      "{0: 0.0, 1: 0.0, 2: 0.0, 3: 0.0, 4: 1.0, 5: 0.0} 2\n"
     ]
    }
   ],
   "source": [
    "pure_vi, num_iter = value_iteration(actions=maze_runner_actions, transitions=maze_runner_transitions, rewards=maze_runner_rewards,\n",
    "               discount=0.9)\n",
    "print(pure_vi, num_iter)\n",
    "random_k_vi, num_iter_random_k = value_iteration(actions=maze_runner_actions, transitions=maze_runner_transitions, rewards=maze_runner_rewards,\n",
    "               discount=0.9, vi_method='random-k', k=3)\n",
    "print(random_k_vi, num_iter_random_k)\n",
    "\n",
    "tree_vi, num_iter_tree = value_iteration(actions=maze_runner_actions, transitions=maze_runner_transitions, rewards=maze_runner_rewards,\n",
    "               discount=0.9, vi_method='influence-tree')\n",
    "print(tree_vi, num_iter_tree)\n",
    "\n",
    "cyclic_vi, num_iter_cyclic = value_iteration(actions=maze_runner_actions, transitions=maze_runner_transitions, rewards=maze_runner_rewards,\n",
    "               discount=0.9, vi_method='cyclic-vi')\n",
    "print(cyclic_vi, num_iter_cyclic)\n",
    "\n",
    "rp_cyclic_vi, rp_num_iter_cyclic = value_iteration(actions=maze_runner_actions, transitions=maze_runner_transitions, rewards=maze_runner_rewards,\n",
    "               discount=0.9, vi_method='cyclic-vi-rp')\n",
    "print(rp_cyclic_vi, rp_num_iter_cyclic)\n"
   ]
  },
  {
   "cell_type": "code",
   "execution_count": null,
   "metadata": {},
   "outputs": [],
   "source": []
  },
  {
   "cell_type": "code",
   "execution_count": 7,
   "metadata": {},
   "outputs": [],
   "source": [
    "maze = RandomGridMaze(4,4, 1, seed=0)\n",
    "maze_actions, maze_transitions, maze_rewards, terminal_maze_state = maze.get_mdp()\n"
   ]
  },
  {
   "cell_type": "code",
   "execution_count": 8,
   "metadata": {},
   "outputs": [
    {
     "name": "stdout",
     "output_type": "stream",
     "text": [
      "{(0, 0): 0, (0, 1): 0, (0, 2): 0, (0, 3): 0, (1, 0): 0, (1, 1): 0, (1, 2): 0, (1, 3): 0, (2, 0): 0, (2, 1): 0, (2, 2): 0, (2, 3): 0, (3, 0): 0, (3, 1): 0, (3, 2): 0, (3, 3): 0}\n",
      "1\n"
     ]
    },
    {
     "ename": "NameError",
     "evalue": "name 'get_greedy_policy' is not defined",
     "output_type": "error",
     "traceback": [
      "\u001b[0;31m---------------------------------------------------------------------------\u001b[0m",
      "\u001b[0;31mNameError\u001b[0m                                 Traceback (most recent call last)",
      "\u001b[0;32m<ipython-input-8-858f6cdde3dd>\u001b[0m in \u001b[0;36m<module>\u001b[0;34m\u001b[0m\n\u001b[1;32m      3\u001b[0m \u001b[0mprint\u001b[0m\u001b[0;34m(\u001b[0m\u001b[0mpure_vi\u001b[0m\u001b[0;34m)\u001b[0m\u001b[0;34m\u001b[0m\u001b[0;34m\u001b[0m\u001b[0m\n\u001b[1;32m      4\u001b[0m \u001b[0mprint\u001b[0m\u001b[0;34m(\u001b[0m\u001b[0mnum_iter\u001b[0m\u001b[0;34m)\u001b[0m\u001b[0;34m\u001b[0m\u001b[0;34m\u001b[0m\u001b[0m\n\u001b[0;32m----> 5\u001b[0;31m policy_p_vi = get_greedy_policy(value_function=pure_vi, actions=maze_actions, transitions=maze_transitions, rewards=maze_rewards,\n\u001b[0m\u001b[1;32m      6\u001b[0m                terminal_states=set(terminal_maze_state), discount=0.9)\n\u001b[1;32m      7\u001b[0m \u001b[0mprint\u001b[0m\u001b[0;34m(\u001b[0m\u001b[0mpolicy_p_vi\u001b[0m\u001b[0;34m)\u001b[0m\u001b[0;34m\u001b[0m\u001b[0;34m\u001b[0m\u001b[0m\n",
      "\u001b[0;31mNameError\u001b[0m: name 'get_greedy_policy' is not defined"
     ]
    }
   ],
   "source": [
    "pure_vi, num_iter = value_iteration(actions=maze_actions, transitions=maze_transitions, rewards=maze_rewards,\n",
    "               discount=0.9)\n",
    "print(pure_vi)\n",
    "print(num_iter)\n",
    "policy_p_vi = get_greedy_policy(value_function=pure_vi, actions=maze_actions, transitions=maze_transitions, rewards=maze_rewards,\n",
    "               terminal_states=set(terminal_maze_state), discount=0.9)\n",
    "print(policy_p_vi)\n",
    "print()\n",
    "\n",
    "\n",
    "k_vi, k_num_iter = value_iteration(actions=maze_actions, transitions=maze_transitions, rewards=maze_rewards,\n",
    "               discount=0.9, vi_method='random-k', k=5)\n",
    "\n",
    "print(k_vi)\n",
    "print(k_num_iter)\n",
    "policy_k_vi = get_greedy_policy(value_function=k_vi, actions=maze_actions, transitions=maze_transitions, rewards=maze_rewards,\n",
    "               terminal_states=set(terminal_maze_state), discount=0.9)\n",
    "print(policy_k_vi)\n",
    "print()\n",
    "\n",
    "\n",
    "tree_vi, tree_num_iter = value_iteration(actions=maze_actions, transitions=maze_transitions, rewards=maze_rewards,\n",
    "               discount=0.9, vi_method='influence-tree')\n",
    "\n",
    "print(tree_vi)\n",
    "print(tree_num_iter)\n",
    "policy_tree_vi = get_greedy_policy(value_function=tree_vi, actions=maze_actions, transitions=maze_transitions, rewards=maze_rewards,\n",
    "               terminal_states=set(terminal_maze_state), discount=0.9)\n",
    "print(policy_tree_vi)\n",
    "print()\n",
    "\n",
    "cyclic_vi, cyclic_num_iter = value_iteration(actions=maze_actions, transitions=maze_transitions, rewards=maze_rewards,\n",
    "               discount=0.9, vi_method='cyclic-vi')\n",
    "\n",
    "print(cyclic_vi)\n",
    "print(cyclic_num_iter)\n",
    "policy_cyclic_vi = get_greedy_policy(value_function=cyclic_vi, actions=maze_actions, transitions=maze_transitions, rewards=maze_rewards,\n",
    "               terminal_states=set(terminal_maze_state), discount=0.9)\n",
    "print(policy_cyclic_vi)\n",
    "print()\n",
    "\n",
    "rp_cyclic_vi, rp_cyclic_num_iter = value_iteration(actions=maze_actions, transitions=maze_transitions, rewards=maze_rewards,\n",
    "               discount=0.9, vi_method='cyclic-vi-rp')\n",
    "\n",
    "print(rp_cyclic_vi)\n",
    "print(rp_cyclic_num_iter)\n",
    "rp_policy_cyclic_vi = get_greedy_policy(value_function=rp_cyclic_vi, actions=maze_actions, transitions=maze_transitions, rewards=maze_rewards,\n",
    "               terminal_states=set(terminal_maze_state), discount=0.9)\n",
    "print(rp_policy_cyclic_vi)\n",
    "print()"
   ]
  },
  {
   "cell_type": "code",
   "execution_count": null,
   "metadata": {},
   "outputs": [],
   "source": []
  }
 ],
 "metadata": {
  "kernelspec": {
   "display_name": "Python 3",
   "language": "python",
   "name": "python3"
  },
  "language_info": {
   "codemirror_mode": {
    "name": "ipython",
    "version": 3
   },
   "file_extension": ".py",
   "mimetype": "text/x-python",
   "name": "python",
   "nbconvert_exporter": "python",
   "pygments_lexer": "ipython3",
   "version": "3.7.6"
  }
 },
 "nbformat": 4,
 "nbformat_minor": 2
}
